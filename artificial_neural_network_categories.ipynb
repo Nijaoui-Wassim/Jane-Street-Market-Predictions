{
 "cells": [
  {
   "cell_type": "markdown",
   "metadata": {
    "colab_type": "text",
    "id": "lP6JLo1tGNBg"
   },
   "source": [
    "# Artificial Neural Network"
   ]
  },
  {
   "cell_type": "markdown",
   "metadata": {
    "colab_type": "text",
    "id": "gWZyYmS_UE_L"
   },
   "source": [
    "### Importing the libraries"
   ]
  },
  {
   "cell_type": "code",
   "execution_count": 1,
   "metadata": {
    "colab": {},
    "colab_type": "code",
    "id": "MxkJoQBkUIHC"
   },
   "outputs": [],
   "source": [
    "import numpy as np\n",
    "import pandas as pd\n",
    "import tensorflow as tf"
   ]
  },
  {
   "cell_type": "markdown",
   "metadata": {
    "colab_type": "text",
    "id": "cKWAkFVGUU0Z"
   },
   "source": [
    "### Importing the dataset"
   ]
  },
  {
   "cell_type": "code",
   "execution_count": 2,
   "metadata": {
    "colab": {},
    "colab_type": "code",
    "id": "MXUkhkMfU4wq"
   },
   "outputs": [
    {
     "name": "stdout",
     "output_type": "stream",
     "text": [
      "55111 55111\n"
     ]
    }
   ],
   "source": [
    "train = pd.read_csv(\"train.csv\", engine='python',nrows=70000)\n",
    "features = [col for col in list(train.columns) if 'feature' in col]\n",
    "train = train[train['weight'] != 0]\n",
    "train['action'] = (train['resp'].values > 0).astype(int)\n",
    "f_mean = train.mean()\n",
    "train = train.fillna(f_mean)\n",
    "train = train.dropna()\n",
    "X = train.loc[:, features]\n",
    "y = train.loc[:, 'action']\n",
    "del train\n",
    "X = np.array(X)\n",
    "y = np.array(y)\n",
    "\n",
    "print(len(X), len(y))"
   ]
  },
  {
   "cell_type": "markdown",
   "metadata": {
    "colab_type": "text",
    "id": "vHol938cW8zd"
   },
   "source": [
    "### Splitting the dataset into the Training set and Test set"
   ]
  },
  {
   "cell_type": "code",
   "execution_count": 3,
   "metadata": {
    "colab": {},
    "colab_type": "code",
    "id": "Z-TDt0Y_XEfc"
   },
   "outputs": [],
   "source": [
    "from sklearn.model_selection import train_test_split\n",
    "X_train, X_test, y_train, y_test = train_test_split(X, y, test_size = 0.2, random_state = 0)"
   ]
  },
  {
   "cell_type": "markdown",
   "metadata": {
    "colab_type": "text",
    "id": "RE_FcHyfV3TQ"
   },
   "source": [
    "### Feature Scaling"
   ]
  },
  {
   "cell_type": "code",
   "execution_count": 4,
   "metadata": {
    "colab": {},
    "colab_type": "code",
    "id": "ViCrE00rV8Sk"
   },
   "outputs": [],
   "source": [
    "from sklearn.preprocessing import StandardScaler\n",
    "sc = StandardScaler()\n",
    "X_train = sc.fit_transform(X_train)\n",
    "X_test = sc.transform(X_test)"
   ]
  },
  {
   "cell_type": "markdown",
   "metadata": {
    "colab_type": "text",
    "id": "KvdeScabXtlB"
   },
   "source": [
    "### Initializing the ANN"
   ]
  },
  {
   "cell_type": "code",
   "execution_count": 5,
   "metadata": {
    "colab": {},
    "colab_type": "code",
    "id": "3dtrScHxXQox"
   },
   "outputs": [],
   "source": [
    "ann = tf.keras.models.Sequential()"
   ]
  },
  {
   "cell_type": "markdown",
   "metadata": {
    "colab_type": "text",
    "id": "rP6urV6SX7kS"
   },
   "source": [
    "### Adding the input layer and the first hidden layer"
   ]
  },
  {
   "cell_type": "code",
   "execution_count": 6,
   "metadata": {
    "colab": {},
    "colab_type": "code",
    "id": "bppGycBXYCQr"
   },
   "outputs": [],
   "source": [
    "ann.add(tf.keras.layers.Dense(units=6, activation='relu'))"
   ]
  },
  {
   "cell_type": "markdown",
   "metadata": {
    "colab_type": "text",
    "id": "BELWAc_8YJze"
   },
   "source": [
    "### Adding the second hidden layer"
   ]
  },
  {
   "cell_type": "code",
   "execution_count": 7,
   "metadata": {
    "colab": {},
    "colab_type": "code",
    "id": "JneR0u0sYRTd"
   },
   "outputs": [],
   "source": [
    "ann.add(tf.keras.layers.Dense(units=6, activation='relu'))"
   ]
  },
  {
   "cell_type": "markdown",
   "metadata": {
    "colab_type": "text",
    "id": "OyNEe6RXYcU4"
   },
   "source": [
    "### Adding the output layer"
   ]
  },
  {
   "cell_type": "code",
   "execution_count": 8,
   "metadata": {
    "colab": {},
    "colab_type": "code",
    "id": "Cn3x41RBYfvY"
   },
   "outputs": [],
   "source": [
    "ann.add(tf.keras.layers.Dense(units=1, activation='sigmoid')) #units must equal the the number of categories - 1#softmax"
   ]
  },
  {
   "cell_type": "markdown",
   "metadata": {
    "colab_type": "text",
    "id": "8GWlJChhY_ZI"
   },
   "source": [
    "### Compiling the ANN"
   ]
  },
  {
   "cell_type": "code",
   "execution_count": 9,
   "metadata": {
    "colab": {},
    "colab_type": "code",
    "id": "fG3RrwDXZEaS"
   },
   "outputs": [],
   "source": [
    "ann.compile(optimizer = 'adam', loss = 'binary_crossentropy', metrics = ['accuracy'])#categorical_crossentropy"
   ]
  },
  {
   "cell_type": "markdown",
   "metadata": {
    "colab_type": "text",
    "id": "0QR_G5u7ZLSM"
   },
   "source": [
    "### Training the ANN on the Training set"
   ]
  },
  {
   "cell_type": "code",
   "execution_count": 10,
   "metadata": {
    "colab": {
     "base_uri": "https://localhost:8080/",
     "height": 1000
    },
    "colab_type": "code",
    "executionInfo": {
     "elapsed": 33685,
     "status": "ok",
     "timestamp": 1590257481284,
     "user": {
      "displayName": "Hadelin de Ponteves",
      "photoUrl": "https://lh3.googleusercontent.com/a-/AOh14GhEuXdT7eQweUmRPW8_laJuPggSK6hfvpl5a6WBaA=s64",
      "userId": "15047218817161520419"
     },
     "user_tz": -240
    },
    "id": "nHZ-LKv_ZRb3",
    "outputId": "718cc4b0-b5aa-40f0-9b20-d3d31730a531"
   },
   "outputs": [
    {
     "name": "stdout",
     "output_type": "stream",
     "text": [
      "Epoch 1/100\n",
      "735/735 [==============================] - 2s 2ms/step - loss: 0.6957 - accuracy: 0.5184\n",
      "Epoch 2/100\n",
      "735/735 [==============================] - 2s 3ms/step - loss: 0.6859 - accuracy: 0.5416\n",
      "Epoch 3/100\n",
      "735/735 [==============================] - 2s 2ms/step - loss: 0.6822 - accuracy: 0.5506\n",
      "Epoch 4/100\n",
      "735/735 [==============================] - 2s 3ms/step - loss: 0.6789 - accuracy: 0.5603\n",
      "Epoch 5/100\n",
      "735/735 [==============================] - 2s 2ms/step - loss: 0.6765 - accuracy: 0.5636\n",
      "Epoch 6/100\n",
      "735/735 [==============================] - 2s 2ms/step - loss: 0.6749 - accuracy: 0.5688\n",
      "Epoch 7/100\n",
      "735/735 [==============================] - 2s 2ms/step - loss: 0.6734 - accuracy: 0.5689\n",
      "Epoch 8/100\n",
      "735/735 [==============================] - 2s 2ms/step - loss: 0.6720 - accuracy: 0.5722\n",
      "Epoch 9/100\n",
      "735/735 [==============================] - 2s 3ms/step - loss: 0.6706 - accuracy: 0.5733\n",
      "Epoch 10/100\n",
      "735/735 [==============================] - 2s 3ms/step - loss: 0.6695 - accuracy: 0.5772\n",
      "Epoch 11/100\n",
      "735/735 [==============================] - 3s 3ms/step - loss: 0.6688 - accuracy: 0.5777\n",
      "Epoch 12/100\n",
      "735/735 [==============================] - 3s 4ms/step - loss: 0.6678 - accuracy: 0.5815\n",
      "Epoch 13/100\n",
      "735/735 [==============================] - 2s 3ms/step - loss: 0.6669 - accuracy: 0.5823\n",
      "Epoch 14/100\n",
      "735/735 [==============================] - 2s 3ms/step - loss: 0.6661 - accuracy: 0.5826\n",
      "Epoch 15/100\n",
      "735/735 [==============================] - 2s 3ms/step - loss: 0.6656 - accuracy: 0.5851\n",
      "Epoch 16/100\n",
      "735/735 [==============================] - 2s 3ms/step - loss: 0.6650 - accuracy: 0.5858\n",
      "Epoch 17/100\n",
      "735/735 [==============================] - 2s 2ms/step - loss: 0.6646 - accuracy: 0.5871\n",
      "Epoch 18/100\n",
      "735/735 [==============================] - 2s 3ms/step - loss: 0.6643 - accuracy: 0.5897\n",
      "Epoch 19/100\n",
      "735/735 [==============================] - 2s 3ms/step - loss: 0.6638 - accuracy: 0.5898\n",
      "Epoch 20/100\n",
      "735/735 [==============================] - 2s 2ms/step - loss: 0.6635 - accuracy: 0.5902\n",
      "Epoch 21/100\n",
      "735/735 [==============================] - 2s 2ms/step - loss: 0.6628 - accuracy: 0.5927\n",
      "Epoch 22/100\n",
      "735/735 [==============================] - 2s 2ms/step - loss: 0.6625 - accuracy: 0.5908\n",
      "Epoch 23/100\n",
      "735/735 [==============================] - 2s 2ms/step - loss: 0.6622 - accuracy: 0.5908\n",
      "Epoch 24/100\n",
      "735/735 [==============================] - 2s 2ms/step - loss: 0.6619 - accuracy: 0.5925\n",
      "Epoch 25/100\n",
      "735/735 [==============================] - 2s 2ms/step - loss: 0.6618 - accuracy: 0.5927\n",
      "Epoch 26/100\n",
      "735/735 [==============================] - 2s 2ms/step - loss: 0.6615 - accuracy: 0.5938\n",
      "Epoch 27/100\n",
      "735/735 [==============================] - 2s 3ms/step - loss: 0.6611 - accuracy: 0.5944\n",
      "Epoch 28/100\n",
      "735/735 [==============================] - 2s 3ms/step - loss: 0.6609 - accuracy: 0.5943\n",
      "Epoch 29/100\n",
      "735/735 [==============================] - 2s 3ms/step - loss: 0.6606 - accuracy: 0.5935\n",
      "Epoch 30/100\n",
      "735/735 [==============================] - 2s 3ms/step - loss: 0.6600 - accuracy: 0.5941\n",
      "Epoch 31/100\n",
      "735/735 [==============================] - 3s 3ms/step - loss: 0.6601 - accuracy: 0.5944\n",
      "Epoch 32/100\n",
      "735/735 [==============================] - 3s 4ms/step - loss: 0.6595 - accuracy: 0.5978\n",
      "Epoch 33/100\n",
      "735/735 [==============================] - 2s 3ms/step - loss: 0.6594 - accuracy: 0.5962\n",
      "Epoch 34/100\n",
      "735/735 [==============================] - 2s 3ms/step - loss: 0.6592 - accuracy: 0.5963\n",
      "Epoch 35/100\n",
      "735/735 [==============================] - 2s 3ms/step - loss: 0.6592 - accuracy: 0.5975\n",
      "Epoch 36/100\n",
      "735/735 [==============================] - 2s 3ms/step - loss: 0.6587 - accuracy: 0.5978\n",
      "Epoch 37/100\n",
      "735/735 [==============================] - 2s 3ms/step - loss: 0.6582 - accuracy: 0.5988\n",
      "Epoch 38/100\n",
      "735/735 [==============================] - 2s 3ms/step - loss: 0.6577 - accuracy: 0.5976\n",
      "Epoch 39/100\n",
      "735/735 [==============================] - 2s 2ms/step - loss: 0.6585 - accuracy: 0.5975\n",
      "Epoch 40/100\n",
      "735/735 [==============================] - 2s 3ms/step - loss: 0.6580 - accuracy: 0.5985\n",
      "Epoch 41/100\n",
      "735/735 [==============================] - 2s 3ms/step - loss: 0.6578 - accuracy: 0.5982\n",
      "Epoch 42/100\n",
      "735/735 [==============================] - 2s 3ms/step - loss: 0.6574 - accuracy: 0.5989\n",
      "Epoch 43/100\n",
      "735/735 [==============================] - 2s 2ms/step - loss: 0.6568 - accuracy: 0.5984\n",
      "Epoch 44/100\n",
      "735/735 [==============================] - 2s 3ms/step - loss: 0.6569 - accuracy: 0.5994\n",
      "Epoch 45/100\n",
      "735/735 [==============================] - 2s 3ms/step - loss: 0.6568 - accuracy: 0.6026\n",
      "Epoch 46/100\n",
      "735/735 [==============================] - 2s 3ms/step - loss: 0.6565 - accuracy: 0.6018\n",
      "Epoch 47/100\n",
      "735/735 [==============================] - 2s 3ms/step - loss: 0.6567 - accuracy: 0.5998\n",
      "Epoch 48/100\n",
      "735/735 [==============================] - 2s 2ms/step - loss: 0.6568 - accuracy: 0.6015\n",
      "Epoch 49/100\n",
      "735/735 [==============================] - 2s 2ms/step - loss: 0.6563 - accuracy: 0.6007\n",
      "Epoch 50/100\n",
      "735/735 [==============================] - 2s 3ms/step - loss: 0.6561 - accuracy: 0.6014\n",
      "Epoch 51/100\n",
      "735/735 [==============================] - 2s 2ms/step - loss: 0.6560 - accuracy: 0.6002\n",
      "Epoch 52/100\n",
      "735/735 [==============================] - 2s 2ms/step - loss: 0.6555 - accuracy: 0.6019\n",
      "Epoch 53/100\n",
      "735/735 [==============================] - 2s 3ms/step - loss: 0.6553 - accuracy: 0.6015\n",
      "Epoch 54/100\n",
      "735/735 [==============================] - 2s 2ms/step - loss: 0.6553 - accuracy: 0.6017\n",
      "Epoch 55/100\n",
      "735/735 [==============================] - 2s 3ms/step - loss: 0.6556 - accuracy: 0.6017\n",
      "Epoch 56/100\n",
      "735/735 [==============================] - 2s 3ms/step - loss: 0.6551 - accuracy: 0.6022\n",
      "Epoch 57/100\n",
      "735/735 [==============================] - 2s 2ms/step - loss: 0.6555 - accuracy: 0.6010\n",
      "Epoch 58/100\n",
      "735/735 [==============================] - 2s 2ms/step - loss: 0.6548 - accuracy: 0.6034\n",
      "Epoch 59/100\n",
      "735/735 [==============================] - 2s 3ms/step - loss: 0.6548 - accuracy: 0.6027\n",
      "Epoch 60/100\n",
      "735/735 [==============================] - 2s 2ms/step - loss: 0.6546 - accuracy: 0.6022\n",
      "Epoch 61/100\n",
      "735/735 [==============================] - 2s 3ms/step - loss: 0.6545 - accuracy: 0.6035\n",
      "Epoch 62/100\n",
      "735/735 [==============================] - 2s 3ms/step - loss: 0.6542 - accuracy: 0.6024\n",
      "Epoch 63/100\n",
      "735/735 [==============================] - 2s 2ms/step - loss: 0.6541 - accuracy: 0.6024\n",
      "Epoch 64/100\n",
      "735/735 [==============================] - 2s 2ms/step - loss: 0.6541 - accuracy: 0.6012\n",
      "Epoch 65/100\n",
      "735/735 [==============================] - 2s 2ms/step - loss: 0.6539 - accuracy: 0.6047\n",
      "Epoch 66/100\n",
      "735/735 [==============================] - 2s 2ms/step - loss: 0.6536 - accuracy: 0.6039\n",
      "Epoch 67/100\n",
      "735/735 [==============================] - 2s 3ms/step - loss: 0.6539 - accuracy: 0.6065\n",
      "Epoch 68/100\n",
      "735/735 [==============================] - 2s 3ms/step - loss: 0.6533 - accuracy: 0.6042\n",
      "Epoch 69/100\n",
      "735/735 [==============================] - 2s 2ms/step - loss: 0.6536 - accuracy: 0.6042\n",
      "Epoch 70/100\n",
      "735/735 [==============================] - 2s 2ms/step - loss: 0.6532 - accuracy: 0.6028\n",
      "Epoch 71/100\n",
      "735/735 [==============================] - 2s 2ms/step - loss: 0.6531 - accuracy: 0.6057\n",
      "Epoch 72/100\n",
      "735/735 [==============================] - 2s 2ms/step - loss: 0.6527 - accuracy: 0.6035\n",
      "Epoch 73/100\n",
      "735/735 [==============================] - 2s 3ms/step - loss: 0.6529 - accuracy: 0.6055\n",
      "Epoch 74/100\n",
      "735/735 [==============================] - 2s 3ms/step - loss: 0.6525 - accuracy: 0.6050\n",
      "Epoch 75/100\n",
      "735/735 [==============================] - 2s 3ms/step - loss: 0.6525 - accuracy: 0.6054\n",
      "Epoch 76/100\n",
      "735/735 [==============================] - 2s 2ms/step - loss: 0.6523 - accuracy: 0.6053\n",
      "Epoch 77/100\n",
      "735/735 [==============================] - 2s 2ms/step - loss: 0.6525 - accuracy: 0.6072\n",
      "Epoch 78/100\n",
      "735/735 [==============================] - 2s 2ms/step - loss: 0.6524 - accuracy: 0.6066\n",
      "Epoch 79/100\n",
      "735/735 [==============================] - 2s 2ms/step - loss: 0.6519 - accuracy: 0.6062\n",
      "Epoch 80/100\n",
      "735/735 [==============================] - 2s 2ms/step - loss: 0.6522 - accuracy: 0.6042\n",
      "Epoch 81/100\n"
     ]
    },
    {
     "name": "stdout",
     "output_type": "stream",
     "text": [
      "735/735 [==============================] - 2s 2ms/step - loss: 0.6520 - accuracy: 0.6067\n",
      "Epoch 82/100\n",
      "735/735 [==============================] - 2s 2ms/step - loss: 0.6515 - accuracy: 0.6060\n",
      "Epoch 83/100\n",
      "735/735 [==============================] - 2s 2ms/step - loss: 0.6510 - accuracy: 0.6080\n",
      "Epoch 84/100\n",
      "735/735 [==============================] - 2s 2ms/step - loss: 0.6515 - accuracy: 0.6061\n",
      "Epoch 85/100\n",
      "735/735 [==============================] - 2s 2ms/step - loss: 0.6512 - accuracy: 0.6072\n",
      "Epoch 86/100\n",
      "735/735 [==============================] - 2s 3ms/step - loss: 0.6510 - accuracy: 0.6053: 0s - loss: 0.6503 - \n",
      "Epoch 87/100\n",
      "735/735 [==============================] - 2s 3ms/step - loss: 0.6508 - accuracy: 0.6069\n",
      "Epoch 88/100\n",
      "735/735 [==============================] - 2s 2ms/step - loss: 0.6505 - accuracy: 0.6083\n",
      "Epoch 89/100\n",
      "735/735 [==============================] - 2s 3ms/step - loss: 0.6506 - accuracy: 0.6086\n",
      "Epoch 90/100\n",
      "735/735 [==============================] - ETA: 0s - loss: 0.6508 - accuracy: 0.60 - 2s 3ms/step - loss: 0.6508 - accuracy: 0.6079\n",
      "Epoch 91/100\n",
      "735/735 [==============================] - 2s 3ms/step - loss: 0.6501 - accuracy: 0.6083: 0s - loss: 0.6502 - \n",
      "Epoch 92/100\n",
      "735/735 [==============================] - 4s 5ms/step - loss: 0.6502 - accuracy: 0.6074\n",
      "Epoch 93/100\n",
      "735/735 [==============================] - 3s 4ms/step - loss: 0.6503 - accuracy: 0.6088\n",
      "Epoch 94/100\n",
      "735/735 [==============================] - 3s 3ms/step - loss: 0.6502 - accuracy: 0.6091\n",
      "Epoch 95/100\n",
      "735/735 [==============================] - 3s 4ms/step - loss: 0.6501 - accuracy: 0.6087\n",
      "Epoch 96/100\n",
      "735/735 [==============================] - 2s 2ms/step - loss: 0.6497 - accuracy: 0.6073\n",
      "Epoch 97/100\n",
      "735/735 [==============================] - 2s 2ms/step - loss: 0.6502 - accuracy: 0.6093\n",
      "Epoch 98/100\n",
      "735/735 [==============================] - 2s 2ms/step - loss: 0.6493 - accuracy: 0.6101\n",
      "Epoch 99/100\n",
      "735/735 [==============================] - 2s 2ms/step - loss: 0.6499 - accuracy: 0.6078\n",
      "Epoch 100/100\n",
      "735/735 [==============================] - 2s 2ms/step - loss: 0.6497 - accuracy: 0.6106\n"
     ]
    },
    {
     "data": {
      "text/plain": [
       "<tensorflow.python.keras.callbacks.History at 0x20e0108cb50>"
      ]
     },
     "execution_count": 10,
     "metadata": {},
     "output_type": "execute_result"
    }
   ],
   "source": [
    "ann.fit(X_train, y_train, batch_size = 60, epochs = 100)"
   ]
  },
  {
   "cell_type": "markdown",
   "metadata": {
    "colab_type": "text",
    "id": "84QFoqGYeXHL"
   },
   "source": [
    "### Predicting the result of a single observation"
   ]
  },
  {
   "cell_type": "code",
   "execution_count": 18,
   "metadata": {
    "colab": {
     "base_uri": "https://localhost:8080/",
     "height": 34
    },
    "colab_type": "code",
    "executionInfo": {
     "elapsed": 33990,
     "status": "ok",
     "timestamp": 1590257481594,
     "user": {
      "displayName": "Hadelin de Ponteves",
      "photoUrl": "https://lh3.googleusercontent.com/a-/AOh14GhEuXdT7eQweUmRPW8_laJuPggSK6hfvpl5a6WBaA=s64",
      "userId": "15047218817161520419"
     },
     "user_tz": -240
    },
    "id": "2d8IoCCkeWGL",
    "outputId": "957f3970-e197-4c3b-a150-7f69dc567f5d"
   },
   "outputs": [
    {
     "name": "stdout",
     "output_type": "stream",
     "text": [
      "[[False]]\n"
     ]
    }
   ],
   "source": [
    "print(ann.predict(sc.transform([[1, 0, 0, 600, 1, 40, 3, 60000, 2, 1, 1, 50000]])) > 0.5)"
   ]
  },
  {
   "cell_type": "markdown",
   "metadata": {
    "colab_type": "text",
    "id": "u7yx47jPZt11"
   },
   "source": [
    "### Predicting the Test set results"
   ]
  },
  {
   "cell_type": "code",
   "execution_count": 19,
   "metadata": {
    "colab": {
     "base_uri": "https://localhost:8080/",
     "height": 137
    },
    "colab_type": "code",
    "executionInfo": {
     "elapsed": 33987,
     "status": "ok",
     "timestamp": 1590257481595,
     "user": {
      "displayName": "Hadelin de Ponteves",
      "photoUrl": "https://lh3.googleusercontent.com/a-/AOh14GhEuXdT7eQweUmRPW8_laJuPggSK6hfvpl5a6WBaA=s64",
      "userId": "15047218817161520419"
     },
     "user_tz": -240
    },
    "id": "nIyEeQdRZwgs",
    "outputId": "82330ba8-9bdc-4fd1-d3cf-b6d78ee7c2a3"
   },
   "outputs": [
    {
     "name": "stdout",
     "output_type": "stream",
     "text": [
      "[[0 0]\n",
      " [0 1]\n",
      " [0 0]\n",
      " ...\n",
      " [0 0]\n",
      " [0 0]\n",
      " [0 0]]\n"
     ]
    }
   ],
   "source": [
    "y_pred = ann.predict(X_test)\n",
    "y_pred = (y_pred > 0.5)\n",
    "print(np.concatenate((y_pred.reshape(len(y_pred),1), y_test.reshape(len(y_test),1)),1))"
   ]
  },
  {
   "cell_type": "markdown",
   "metadata": {
    "colab_type": "text",
    "id": "o0oyfLWoaEGw"
   },
   "source": [
    "### Making the Confusion Matrix"
   ]
  },
  {
   "cell_type": "code",
   "execution_count": 20,
   "metadata": {
    "colab": {
     "base_uri": "https://localhost:8080/",
     "height": 68
    },
    "colab_type": "code",
    "executionInfo": {
     "elapsed": 33981,
     "status": "ok",
     "timestamp": 1590257481595,
     "user": {
      "displayName": "Hadelin de Ponteves",
      "photoUrl": "https://lh3.googleusercontent.com/a-/AOh14GhEuXdT7eQweUmRPW8_laJuPggSK6hfvpl5a6WBaA=s64",
      "userId": "15047218817161520419"
     },
     "user_tz": -240
    },
    "id": "ci6K_r6LaF6P",
    "outputId": "4d854e9e-22d5-432f-f6e5-a102fe3ae0bd"
   },
   "outputs": [
    {
     "name": "stdout",
     "output_type": "stream",
     "text": [
      "[[1516   79]\n",
      " [ 200  205]]\n"
     ]
    },
    {
     "data": {
      "text/plain": [
       "0.8605"
      ]
     },
     "execution_count": 20,
     "metadata": {
      "tags": []
     },
     "output_type": "execute_result"
    }
   ],
   "source": [
    "from sklearn.metrics import confusion_matrix, accuracy_score\n",
    "cm = confusion_matrix(y_test, y_pred)\n",
    "print(cm)\n",
    "accuracy_score(y_test, y_pred)"
   ]
  }
 ],
 "metadata": {
  "colab": {
   "authorship_tag": "ABX9TyMeRFWFoGrdaL5S3dx5MWmb",
   "collapsed_sections": [],
   "name": "artificial_neural_network.ipynb",
   "provenance": [],
   "toc_visible": true
  },
  "kernelspec": {
   "display_name": "Python 3",
   "language": "python",
   "name": "python3"
  },
  "language_info": {
   "codemirror_mode": {
    "name": "ipython",
    "version": 3
   },
   "file_extension": ".py",
   "mimetype": "text/x-python",
   "name": "python",
   "nbconvert_exporter": "python",
   "pygments_lexer": "ipython3",
   "version": "3.8.3"
  }
 },
 "nbformat": 4,
 "nbformat_minor": 1
}
